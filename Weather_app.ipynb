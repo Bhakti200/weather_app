{
 "cells": [
  {
   "cell_type": "code",
   "execution_count": 1,
   "id": "6a9a1931-34b7-419f-9cb3-ce2772e5721c",
   "metadata": {},
   "outputs": [],
   "source": [
    "import requests\n",
    "import pandas as pd\n",
    "import time \n",
    "import matplotlib.pyplot as plt\n",
    "\n",
    "      "
   ]
  },
  {
   "cell_type": "code",
   "execution_count": 2,
   "id": "cbd77ac6-0dde-465d-9b25-9ff413fc4c80",
   "metadata": {},
   "outputs": [],
   "source": [
    "weather_data = []"
   ]
  },
  {
   "cell_type": "code",
   "execution_count": 3,
   "id": "32afb443-dec4-4337-97e6-deac379689f6",
   "metadata": {},
   "outputs": [
    {
     "data": {
      "text/plain": [
       "[]"
      ]
     },
     "execution_count": 3,
     "metadata": {},
     "output_type": "execute_result"
    }
   ],
   "source": [
    "weather_data"
   ]
  },
  {
   "cell_type": "code",
   "execution_count": null,
   "id": "21ad6426-9c2e-4046-92db-ffd339ad2b4d",
   "metadata": {},
   "outputs": [],
   "source": [
    "pip install requests\n"
   ]
  },
  {
   "cell_type": "code",
   "execution_count": null,
   "id": "852021de-5ece-48ad-a013-3fca0e19cdb7",
   "metadata": {},
   "outputs": [],
   "source": [
    "weather_data = []\n"
   ]
  },
  {
   "cell_type": "code",
   "execution_count": 8,
   "id": "1badbee5-684b-4c2e-9673-39a8ce6ce630",
   "metadata": {},
   "outputs": [],
   "source": [
    "response = requests.get('https://api.openweathermap.org/data/2.5/weather?q=London&appid=a25a58822fd966d8bc2c62707d34e1ec&units=metrics')\n"
   ]
  },
  {
   "cell_type": "code",
   "execution_count": 9,
   "id": "39dafd80-174e-4f0d-ba51-0c4c640f091c",
   "metadata": {},
   "outputs": [
    {
     "name": "stdout",
     "output_type": "stream",
     "text": [
      "Weather Report for All Cities:\n",
      "----------------------------------------\n",
      "City: London\n",
      "Temperature: 7.54°C\n",
      "Weather: light rain\n",
      "Humidity: 83%\n",
      "----------------------------------------\n",
      "City: New York\n",
      "Temperature: 0.01°C\n",
      "Weather: clear sky\n",
      "Humidity: 50%\n",
      "----------------------------------------\n",
      "City: Tokyo\n",
      "Temperature: 7.32°C\n",
      "Weather: light rain\n",
      "Humidity: 62%\n",
      "----------------------------------------\n"
     ]
    }
   ],
   "source": [
    "import requests\n",
    "\n",
    "# Replace with your actual OpenWeatherMap API key\n",
    "API_KEY = 'a25a58822fd966d8bc2c62707d34e1ec'  \n",
    "\n",
    "# List of cities to fetch weather data for\n",
    "CITIES = ['London', 'New York', 'Tokyo']  \n",
    "\n",
    "# OpenWeatherMap API endpoint\n",
    "BASE_URL = 'https://api.openweathermap.org/data/2.5/weather'\n",
    "\n",
    "# List to store weather data for all cities\n",
    "weather_data = []\n",
    "\n",
    "# Loop through each city and fetch weather data\n",
    "for city in CITIES:\n",
    "    params = {\n",
    "        'q': city,         # City name from the list\n",
    "        'appid': API_KEY,  # Your API key\n",
    "        'units': 'metric'  # Units for temperature (metric = Celsius)\n",
    "    }\n",
    "\n",
    "    # Send GET request to OpenWeatherMap API\n",
    "    response = requests.get(BASE_URL, params=params)\n",
    "\n",
    "    # If the response is successful, parse and store the data\n",
    "    if response.status_code == 200:\n",
    "        data = response.json()  # Parse JSON response into a dictionary\n",
    "        \n",
    "        # Extract weather information\n",
    "        temperature = data['main']['temp']\n",
    "        weather_description = data['weather'][0]['description']\n",
    "        humidity = data['main']['humidity']\n",
    "\n",
    "        # Store the city data in the list\n",
    "        weather_data.append({\n",
    "            \"City\": city,\n",
    "            \"Temperature\": f\"{temperature}°C\",\n",
    "            \"Weather\": weather_description,\n",
    "            \"Humidity\": f\"{humidity}%\"\n",
    "\n",
    "        })\n",
    "    else:\n",
    "        weather_data.append({\n",
    "            \"City\": city,\n",
    "            \"Temperature\": \"N/A\",\n",
    "            \"Weather\": \"Failed to retrieve data\",\n",
    "            \"Humidity\": \"N/A\"\n",
    "\n",
    "        })\n",
    "\n",
    "# Print all city weather data in one go\n",
    "print(\"Weather Report for All Cities:\")\n",
    "print(\"-\" * 40)\n",
    "for entry in weather_data:\n",
    "    print(f\"City: {entry['City']}\")\n",
    "    print(f\"Temperature: {entry['Temperature']}\")\n",
    "    print(f\"Weather: {entry['Weather']}\")\n",
    "    print(f\"Humidity: {entry['Humidity']}\")\n",
    "\n",
    "    print('-' * 40)\n"
   ]
  },
  {
   "cell_type": "code",
   "execution_count": 10,
   "id": "a53775d0-5009-4753-89b5-0c1849ac08bd",
   "metadata": {},
   "outputs": [],
   "source": [
    "# Convert the weather data to a Pandas DataFrame\n",
    "df = pd.DataFrame(weather_data)\n",
    "\n"
   ]
  },
  {
   "cell_type": "code",
   "execution_count": 11,
   "id": "e2e5063d-ec34-4b11-8b31-a882b0541fcc",
   "metadata": {},
   "outputs": [
    {
     "name": "stdout",
     "output_type": "stream",
     "text": [
      "       City Temperature     Weather Humidity\n",
      "0    London      7.54°C  light rain      83%\n",
      "1  New York      0.01°C   clear sky      50%\n",
      "2     Tokyo      7.32°C  light rain      62%\n"
     ]
    }
   ],
   "source": [
    "print(df)\n"
   ]
  },
  {
   "cell_type": "code",
   "execution_count": 14,
   "id": "16c41ad5-28ec-4e85-b2b5-dd04df84b759",
   "metadata": {},
   "outputs": [
    {
     "data": {
      "image/png": "[encoded data removed]",
      "text/plain": [
       "<Figure size 800x800 with 1 Axes>"
      ]
     },
     "metadata": {},
     "output_type": "display_data"
    }
   ],
   "source": [
    "plt.figure(figsize=(8, 8))\n",
    "plt.bar(df['City'], df['Temperature'], color='pink')\n",
    "plt.xlabel('City')\n",
    "plt.ylabel(\"Temperature\")\n",
    "plt.title('Temperatureof Cities')\n",
    "plt.show()"
   ]
  },
  {
   "cell_type": "code",
   "execution_count": 13,
   "id": "b90a8e3d-e49a-49cc-9435-a62550a18378",
   "metadata": {},
   "outputs": [
    {
     "name": "stdout",
     "output_type": "stream",
     "text": [
      "Temperature data not available for some cities.\n"
     ]
    }
   ],
   "source": [
    "if df['Temperature'].dtype != object:\n",
    "    max_temp_city = df.loc[df['Temperature'].idxmax()]\n",
    "    min_temp_city = df.loc[df['Temperature'].idxmin()]\n",
    "    print(f\"City with the highest temperature: {max_temp_city['City']} ({max_temp_city['Temperature']}°C)\")\n",
    "    print(f\"City with the lowest temperature: {min_temp_city['City']} ({min_temp_city['Temperature']}°C)\")\n",
    "else:\n",
    "    print(\"Temperature data not available for some cities.\")\n"
   ]
  },
  {
   "cell_type": "code",
   "execution_count": null,
   "id": "da659f04-8f9d-4144-9e5a-44fcf2c7dfe9",
   "metadata": {},
   "outputs": [],
   "source": []
  },
  {
   "cell_type": "markdown",
   "id": "0d2221bd-3c91-4d80-b7ec-bd502b8a1a5c",
   "metadata": {},
   "source": [
    "### "
   ]
  },
  {
   "cell_type": "code",
   "execution_count": null,
   "id": "ebb3d80e-b76c-4f2c-8a2c-1dc211222b4b",
   "metadata": {},
   "outputs": [],
   "source": []
  },
  {
   "cell_type": "code",
   "execution_count": null,
   "id": "ebae5e41-62f2-4ae8-91f3-ad0300429ce2",
   "metadata": {},
   "outputs": [],
   "source": []
  },
  {
   "cell_type": "code",
   "execution_count": null,
   "id": "c4521f38-bb04-49f4-99e6-cf8358c192c5",
   "metadata": {},
   "outputs": [],
   "source": []
  }
 ],
 "metadata": {
  "kernelspec": {
   "display_name": "Python 3 (ipykernel)",
   "language": "python",
   "name": "python3"
  },
  "language_info": {
   "codemirror_mode": {
    "name": "ipython",
    "version": 3
   },
   "file_extension": ".py",
   "mimetype": "text/x-python",
   "name": "python",
   "nbconvert_exporter": "python",
   "pygments_lexer": "ipython3",
   "version": "3.11.9"
  }
 },
 "nbformat": 4,
 "nbformat_minor": 5
}
